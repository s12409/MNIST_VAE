{
  "nbformat": 4,
  "nbformat_minor": 0,
  "metadata": {
    "colab": {
      "provenance": [],
      "gpuType": "T4",
      "authorship_tag": "ABX9TyPHSMwJI2XjDbJ5AEKWvJVY",
      "include_colab_link": true
    },
    "kernelspec": {
      "name": "python3",
      "display_name": "Python 3"
    },
    "language_info": {
      "name": "python"
    },
    "accelerator": "GPU"
  },
  "cells": [
    {
      "cell_type": "markdown",
      "metadata": {
        "id": "view-in-github",
        "colab_type": "text"
      },
      "source": [
        "<a href=\"https://colab.research.google.com/github/s12409/MNIST_VAE/blob/main/VAE_MNIST.ipynb\" target=\"_parent\"><img src=\"https://colab.research.google.com/assets/colab-badge.svg\" alt=\"Open In Colab\"/></a>"
      ]
    },
    {
      "cell_type": "code",
      "execution_count": null,
      "metadata": {
        "colab": {
          "base_uri": "https://localhost:8080/"
        },
        "id": "1wtnI3xdOY4K",
        "outputId": "5a6202c8-390e-4fa8-8341-322d2d3d68e8"
      },
      "outputs": [
        {
          "output_type": "stream",
          "name": "stdout",
          "text": [
            "Downloading data from https://storage.googleapis.com/tensorflow/tf-keras-datasets/mnist.npz\n",
            "11490434/11490434 [==============================] - 1s 0us/step\n"
          ]
        }
      ],
      "source": [
        "from keras.datasets import mnist\n",
        "(x_train, _), (x_test, _) = mnist.load_data()\n"
      ]
    },
    {
      "cell_type": "code",
      "source": [
        "x_train = x_train.astype('float32') / 255.\n",
        "x_test = x_test.astype('float32') / 255.\n",
        "x_train = x_train.reshape((len(x_train), 28, 28, 1))\n",
        "x_test = x_test.reshape((len(x_test), 28, 28, 1))"
      ],
      "metadata": {
        "id": "xF7pmCiOQFFY"
      },
      "execution_count": null,
      "outputs": []
    },
    {
      "cell_type": "code",
      "source": [
        "from keras.layers import Input, Dense, Lambda, Flatten, Reshape\n",
        "from keras.models import Model\n",
        "from keras.losses import mse, binary_crossentropy\n",
        "from keras.utils import plot_model\n",
        "from tensorflow import keras\n",
        "import keras.backend as K\n"
      ],
      "metadata": {
        "id": "dv9nP03rQNqp"
      },
      "execution_count": null,
      "outputs": []
    },
    {
      "cell_type": "code",
      "source": [
        "import math\n",
        "import keras.backend as K\n",
        "from keras.layers import Conv2D, BatchNormalization, Activation, Add, \\\n",
        "    AveragePooling2D, Input, Dense, Flatten, UpSampling2D, Lambda, Reshape\n",
        "from keras.models import Model\n",
        "from keras.regularizers import l2\n",
        "\n",
        "\n",
        "def encoder_layers_introvae(image_size, base_channels, bn_allowed):\n",
        "    layers = []\n",
        "    layers.append(Conv2D(base_channels, (5, 5), strides=(1, 1), padding='same', kernel_initializer='he_normal', name='encoder_conv_0'))\n",
        "    if bn_allowed:\n",
        "        layers.append(BatchNormalization(axis=-1, name='encoder_bn_0'))\n",
        "    layers.append(Activation('relu'))\n",
        "    layers.append(AveragePooling2D(pool_size=(2, 2), strides=None, padding='valid', name='encoder_avgpool_0'))\n",
        "\n",
        "    map_size = image_size[0] // 2\n",
        "\n",
        "    block = 1\n",
        "    channels = base_channels * 2\n",
        "    while map_size > 4:\n",
        "        layers.append(residual_block('encoder', [(3, 3), (3, 3)], channels, block=block, bn_allowed=bn_allowed))\n",
        "        layers.append(AveragePooling2D(pool_size=(2, 2), strides=None, padding='valid', name='encoder_avgpool_'+ str(block)))\n",
        "        block += 1\n",
        "        map_size = map_size // 2\n",
        "        channels = channels * 2 if channels <= 256  else 512\n",
        "\n",
        "    layers.append(residual_block('encoder', kernels=[(3, 3), (3, 3)], filters=channels, block=block, bn_allowed=bn_allowed, last_activation=\"linear\"))\n",
        "    layers.append(Flatten(name='encoder_reshape'))\n",
        "    return layers\n",
        "\n",
        "\n",
        "def generator_layers_introvae(image_size, base_channels, bn_allowed):\n",
        "    layers = []\n",
        "    layers.append(Dense(512 * 4 * 4, name='generator_dense'))\n",
        "    layers.append(Activation('relu'))\n",
        "    layers.append(Reshape((512, 4, 4), name='generator_reshape'))\n",
        "    layers.append(residual_block('generator', kernels=[(3, 3), (3, 3)], filters=512, block=1, bn_allowed=bn_allowed))\n",
        "\n",
        "    map_size = 4\n",
        "    upsamples = int(math.log2(image_size[0]) - 2)\n",
        "    block = 2\n",
        "    channels = 512\n",
        "\n",
        "    for i in range(upsamples - 6):\n",
        "        layers.append(UpSampling2D(size=(2, 2), name='generator_upsample_' + str(block)))\n",
        "        layers.append(residual_block('generator', [(3, 3), (3, 3)], 512, block=block, bn_allowed=bn_allowed))\n",
        "        map_size = map_size * 2\n",
        "        block += 1\n",
        "\n",
        "    while map_size < image_size[0]: # 4\n",
        "        channels = channels // 2 if channels >= 32 else 16\n",
        "        layers.append(UpSampling2D(size=(2, 2), name='generator_upsample_' + str(block)))\n",
        "        layers.append(residual_block('generator', [(3, 3), (3, 3)], channels, block=block, bn_allowed=bn_allowed))\n",
        "        map_size = map_size * 2\n",
        "        block += 1\n",
        "\n",
        "    layers.append(Conv2D(1, (5, 5), padding='same', kernel_initializer='he_normal', name='generator_conv_0'))\n",
        "    layers.append(Activation('sigmoid'))\n",
        "    return layers\n",
        "\n",
        "\n",
        "def residual_block(model_type, kernels, filters, block, bn_allowed, stage='a', last_activation=\"relu\"):\n",
        "\n",
        "    def identity_block(input_tensor, filters=filters):\n",
        "        if isinstance(filters, int):\n",
        "            filters = [filters] * len(kernels)\n",
        "        assert len(filters) == len(kernels), 'Number of filters and number of kernels differs.'\n",
        "\n",
        "        bn_axis = -1 if K.image_data_format() == 'channels_last' else 1\n",
        "        bn_name_base = model_type + '_resblock_bn_' + stage + str(block) + '_branch_'\n",
        "        conv_name_base = model_type + '_resblock_conv_' + stage + str(block) + '_branch_'\n",
        "\n",
        "        if K.int_shape(input_tensor)[-1] != filters[0]:\n",
        "            input_tensor = Conv2D(filters[0], (1, 1), padding='same', kernel_initializer='glorot_normal', name=conv_name_base + str('00'), data_format='channels_first')(input_tensor)\n",
        "            if bn_allowed:\n",
        "                input_tensor = BatchNormalization(axis=bn_axis, name=bn_name_base + str('00'))(input_tensor)\n",
        "            input_tensor = Activation('relu')(input_tensor)\n",
        "\n",
        "        x = input_tensor\n",
        "        for idx in range(len(filters)):\n",
        "            x = Conv2D(filters[idx], kernels[idx], padding='same', kernel_initializer='he_normal', name=conv_name_base + str(idx), data_format='channels_first')(x)\n",
        "            if bn_allowed:\n",
        "                x = BatchNormalization(axis=bn_axis, name=bn_name_base + str(idx))(x)\n",
        "            if idx <= len(filters) - 1:\n",
        "                x = Activation('relu')(x)\n",
        "\n",
        "        x = Add(name=model_type + '_resblock_add_' + stage + str(block))([x, input_tensor])\n",
        "        x = Activation(last_activation)(x)\n",
        "        return x\n",
        "\n",
        "    return identity_block\n",
        "\n",
        "\n",
        "def add_sampling(hidden, sampling, sampling_std, batch_size, latent_dim, wd):\n",
        "    z_mean = Dense(latent_dim, kernel_regularizer=l2(wd))(hidden)\n",
        "    if not sampling:\n",
        "        z_log_var = Lambda(lambda x: 0*x, output_shape=[latent_dim])(z_mean)\n",
        "        return z_mean, z_mean, z_log_var\n",
        "    else:\n",
        "        if sampling_std > 0:\n",
        "            z_log_var = Lambda(lambda x: 0*x + K.log(K.square(sampling_std)), output_shape=[latent_dim])(z_mean)\n",
        "        else:\n",
        "            z_log_var = Dense(latent_dim, kernel_regularizer=l2(wd))(hidden)\n",
        "\n",
        "        def sampling(inputs):\n",
        "            z_mean, z_log_var = inputs\n",
        "            epsilon = K.random_normal(shape=(batch_size, latent_dim), mean=0.)\n",
        "\n"
      ],
      "metadata": {
        "id": "YBqIwLYtCy8B"
      },
      "execution_count": null,
      "outputs": []
    },
    {
      "cell_type": "code",
      "source": [
        "latent_dim = 2\n",
        "\n",
        "# Encoder\n",
        "inputs = Input(shape=(28, 28, 1), name='encoder_input')\n",
        "x = Dense(256, activation='relu')(inputs)\n",
        "\n",
        "x = Flatten()(x) # Flatten the output before passing to Dense layers for z_mean and z_log_var\n",
        "\n",
        "z_mean = Dense(latent_dim, name='z_mean')(x)\n",
        "z_log_var = Dense(latent_dim, name='z_log_var')(x)\n",
        "\n",
        "# Sampling layer\n",
        "def sampling(args):\n",
        "    z_mean, z_log_var = args\n",
        "    batch = K.shape(z_mean)[0]\n",
        "    dim = K.int_shape(z_mean)[1]\n",
        "    epsilon = K.random_normal(shape=(batch, dim))\n",
        "    return z_mean + K.exp(0.5 * z_log_var) * epsilon\n",
        "\n",
        "z = Lambda(sampling, output_shape=(latent_dim,), name='z')([z_mean, z_log_var])\n",
        "\n",
        "\n",
        "# Decoder\n",
        "decoder_inputs = Input(shape=(latent_dim,), name='decoder_input')\n",
        "x = Dense(256, activation='relu')(decoder_inputs)\n",
        "outputs = Dense(28 * 28, activation='sigmoid')(x)\n",
        "outputs = Reshape((28, 28, 1))(outputs)\n",
        "\n",
        "# Instantiate VAE model\n",
        "encoder = Model(inputs, [z_mean, z_log_var, z], name='encoder')\n",
        "decoder = Model(decoder_inputs, outputs, name='decoder')\n",
        "vae_outputs = decoder(encoder(inputs)[2])\n",
        "vae = Model(inputs, vae_outputs, name='vae')\n",
        "\n",
        "# 定义损失函数\n",
        "reconstruction_loss = binary_crossentropy(K.flatten(inputs), K.flatten(vae_outputs))\n",
        "reconstruction_loss *= 28 * 28\n",
        "\n",
        "kl_loss = 1 + z_log_var - K.square(z_mean) - K.exp(z_log_var)\n",
        "kl_loss = K.sum(kl_loss, axis=-1)\n",
        "kl_loss *= -0.5\n",
        "\n",
        "vae_loss = K.mean(reconstruction_loss + kl_loss)\n",
        "vae.add_loss(vae_loss)\n",
        "# 选择优化器\n",
        "optimizer = keras.optimizers.Adam(learning_rate=0.002)"
      ],
      "metadata": {
        "id": "9DuL1WbCQSQ8"
      },
      "execution_count": null,
      "outputs": []
    },
    {
      "cell_type": "code",
      "source": [
        "# 损失函数\n",
        "def vae_loss(x, x_decoded_mean):\n",
        "    reconstruction_loss = keras.losses.binary_crossentropy(tf.keras.backend.flatten(x), tf.keras.backend.flatten(x_decoded_mean))\n",
        "    reconstruction_loss *= 28 * 28\n",
        "    # Convert symbolic tensors to concrete tensors before using TensorFlow operations\n",
        "    kl_loss = -0.5 * tf.reduce_sum(1 + tf.keras.backend.eval(z_log_var) - tf.square(tf.keras.backend.eval(z_mean)) - tf.exp(tf.keras.backend.eval(z_log_var)), axis=-1)\n",
        "    return tf.reduce_mean(reconstruction_loss + kl_loss)"
      ],
      "metadata": {
        "id": "URPi0WaUULLm"
      },
      "execution_count": null,
      "outputs": []
    },
    {
      "cell_type": "code",
      "source": [
        "# 选择优化器\n",
        "optimizer = keras.optimizers.Adam(learning_rate=0.002)\n",
        "vae.compile(optimizer=optimizer)\n",
        "vae.summary()"
      ],
      "metadata": {
        "colab": {
          "base_uri": "https://localhost:8080/"
        },
        "id": "-0PuvdB6Rcgh",
        "outputId": "90cfeeef-50fe-4e6c-f30d-dcbcf1de778f"
      },
      "execution_count": null,
      "outputs": [
        {
          "output_type": "stream",
          "name": "stdout",
          "text": [
            "Model: \"vae\"\n",
            "__________________________________________________________________________________________________\n",
            " Layer (type)                Output Shape                 Param #   Connected to                  \n",
            "==================================================================================================\n",
            " encoder_input (InputLayer)  [(None, 28, 28, 1)]          0         []                            \n",
            "                                                                                                  \n",
            " encoder (Functional)        [(None, 2),                  803332    ['encoder_input[0][0]']       \n",
            "                              (None, 2),                                                          \n",
            "                              (None, 2)]                                                          \n",
            "                                                                                                  \n",
            " decoder (Functional)        (None, 28, 28, 1)            202256    ['encoder[0][2]']             \n",
            "                                                                                                  \n",
            " dense_9 (Dense)             (None, 28, 28, 256)          512       ['encoder_input[0][0]']       \n",
            "                                                                                                  \n",
            " flatten_3 (Flatten)         (None, 200704)               0         ['dense_9[0][0]']             \n",
            "                                                                                                  \n",
            " z_log_var (Dense)           (None, 2)                    401410    ['flatten_3[0][0]']           \n",
            "                                                                                                  \n",
            " z_mean (Dense)              (None, 2)                    401410    ['flatten_3[0][0]']           \n",
            "                                                                                                  \n",
            " tf.reshape_2 (TFOpLambda)   (None,)                      0         ['encoder_input[0][0]']       \n",
            "                                                                                                  \n",
            " tf.reshape_3 (TFOpLambda)   (None,)                      0         ['decoder[0][0]']             \n",
            "                                                                                                  \n",
            " tf.__operators__.add_2 (TF  (None, 2)                    0         ['z_log_var[0][0]']           \n",
            " OpLambda)                                                                                        \n",
            "                                                                                                  \n",
            " tf.math.square_1 (TFOpLamb  (None, 2)                    0         ['z_mean[0][0]']              \n",
            " da)                                                                                              \n",
            "                                                                                                  \n",
            " tf.cast_1 (TFOpLambda)      (None,)                      0         ['tf.reshape_2[0][0]']        \n",
            "                                                                                                  \n",
            " tf.convert_to_tensor_3 (TF  (None,)                      0         ['tf.reshape_3[0][0]']        \n",
            " OpLambda)                                                                                        \n",
            "                                                                                                  \n",
            " tf.math.subtract_2 (TFOpLa  (None, 2)                    0         ['tf.__operators__.add_2[0][0]\n",
            " mbda)                                                              ',                            \n",
            "                                                                     'tf.math.square_1[0][0]']    \n",
            "                                                                                                  \n",
            " tf.math.exp_1 (TFOpLambda)  (None, 2)                    0         ['z_log_var[0][0]']           \n",
            "                                                                                                  \n",
            " tf.keras.backend.binary_cr  (None,)                      0         ['tf.cast_1[0][0]',           \n",
            " ossentropy_1 (TFOpLambda)                                           'tf.convert_to_tensor_3[0][0]\n",
            "                                                                    ']                            \n",
            "                                                                                                  \n",
            " tf.math.subtract_3 (TFOpLa  (None, 2)                    0         ['tf.math.subtract_2[0][0]',  \n",
            " mbda)                                                               'tf.math.exp_1[0][0]']       \n",
            "                                                                                                  \n",
            " tf.math.reduce_mean_2 (TFO  ()                           0         ['tf.keras.backend.binary_cros\n",
            " pLambda)                                                           sentropy_1[0][0]']            \n",
            "                                                                                                  \n",
            " tf.math.reduce_sum_1 (TFOp  (None,)                      0         ['tf.math.subtract_3[0][0]']  \n",
            " Lambda)                                                                                          \n",
            "                                                                                                  \n",
            " tf.math.multiply_2 (TFOpLa  ()                           0         ['tf.math.reduce_mean_2[0][0]'\n",
            " mbda)                                                              ]                             \n",
            "                                                                                                  \n",
            " tf.math.multiply_3 (TFOpLa  (None,)                      0         ['tf.math.reduce_sum_1[0][0]']\n",
            " mbda)                                                                                            \n",
            "                                                                                                  \n",
            " tf.__operators__.add_3 (TF  (None,)                      0         ['tf.math.multiply_2[0][0]',  \n",
            " OpLambda)                                                           'tf.math.multiply_3[0][0]']  \n",
            "                                                                                                  \n",
            " tf.math.reduce_mean_3 (TFO  ()                           0         ['tf.__operators__.add_3[0][0]\n",
            " pLambda)                                                           ']                            \n",
            "                                                                                                  \n",
            " add_loss_1 (AddLoss)        ()                           0         ['tf.math.reduce_mean_3[0][0]'\n",
            "                                                                    ]                             \n",
            "                                                                                                  \n",
            "==================================================================================================\n",
            "Total params: 1005588 (3.84 MB)\n",
            "Trainable params: 1005588 (3.84 MB)\n",
            "Non-trainable params: 0 (0.00 Byte)\n",
            "__________________________________________________________________________________________________\n"
          ]
        }
      ]
    },
    {
      "cell_type": "code",
      "source": [
        "import tensorflow as tf\n",
        "import numpy\n",
        "import matplotlib.pyplot as plt"
      ],
      "metadata": {
        "id": "ea2dbGfgU_xP"
      },
      "execution_count": null,
      "outputs": []
    },
    {
      "cell_type": "code",
      "source": [
        "epochs = 10\n",
        "batch_size = 128\n",
        "vae.fit(x_train, x_train, epochs=epochs, batch_size=batch_size, validation_data=(x_test, x_test))\n"
      ],
      "metadata": {
        "colab": {
          "base_uri": "https://localhost:8080/"
        },
        "id": "pQ7ytiRHRfsp",
        "outputId": "e10ee0b6-49b3-427a-8bcd-a9d6fad35f7d"
      },
      "execution_count": null,
      "outputs": [
        {
          "output_type": "stream",
          "name": "stdout",
          "text": [
            "Epoch 1/10\n",
            "469/469 [==============================] - 581s 1s/step - loss: 192.9709 - val_loss: 174.8273\n",
            "Epoch 2/10\n",
            "469/469 [==============================] - 571s 1s/step - loss: 173.5596 - val_loss: 170.7654\n",
            "Epoch 3/10\n",
            "469/469 [==============================] - 573s 1s/step - loss: 170.8406 - val_loss: 169.1481\n",
            "Epoch 4/10\n",
            "469/469 [==============================] - 583s 1s/step - loss: 169.4367 - val_loss: 168.1187\n",
            "Epoch 5/10\n",
            "469/469 [==============================] - 584s 1s/step - loss: 168.5586 - val_loss: 167.5993\n",
            "Epoch 6/10\n",
            "469/469 [==============================] - 582s 1s/step - loss: 167.9704 - val_loss: 166.7470\n",
            "Epoch 7/10\n",
            "469/469 [==============================] - 577s 1s/step - loss: 167.5503 - val_loss: 166.9243\n",
            "Epoch 8/10\n",
            "469/469 [==============================] - 578s 1s/step - loss: 167.1512 - val_loss: 166.2343\n",
            "Epoch 9/10\n",
            "469/469 [==============================] - 581s 1s/step - loss: 166.7950 - val_loss: 165.9530\n",
            "Epoch 10/10\n",
            "469/469 [==============================] - 585s 1s/step - loss: 166.4999 - val_loss: 165.8186\n"
          ]
        },
        {
          "output_type": "execute_result",
          "data": {
            "text/plain": [
              "<keras.src.callbacks.History at 0x7e0252f0a860>"
            ]
          },
          "metadata": {},
          "execution_count": 21
        }
      ]
    },
    {
      "cell_type": "code",
      "source": [
        "decoded_imgs = vae.predict(x_test)"
      ],
      "metadata": {
        "colab": {
          "base_uri": "https://localhost:8080/",
          "height": 322
        },
        "collapsed": true,
        "id": "UfbVbbzRWUel",
        "outputId": "63315121-1da1-4d98-9de3-ca5df202e374"
      },
      "execution_count": null,
      "outputs": [
        {
          "output_type": "stream",
          "name": "stdout",
          "text": [
            "313/313 [==============================] - 15s 49ms/step\n"
          ]
        },
        {
          "output_type": "display_data",
          "data": {
            "text/plain": [
              "<Figure size 2000x400 with 20 Axes>"
            ],
            "image/png": "[encoded data removed]"
          },
          "metadata": {}
        }
      ]
    },
    {
      "cell_type": "code",
      "source": [
        "n = 10\n",
        "plt.figure(figsize=(20, 4))\n",
        "for i in range(n):\n",
        "    ax = plt.subplot(2, n, i + 1)\n",
        "    plt.imshow(x_test[i].reshape(28, 28))\n",
        "    plt.gray()\n",
        "    ax.get_xaxis().set_visible(False)\n",
        "    ax.get_yaxis().set_visible(False)\n",
        "\n",
        "    ax = plt.subplot(2, n, i + 1 + n)\n",
        "    plt.imshow(decoded_imgs[i].reshape(28, 28))\n",
        "    plt.gray()\n",
        "    ax.get_xaxis().set_visible(False)\n",
        "    ax.get_yaxis().set_visible(False)\n",
        "plt.show()"
      ],
      "metadata": {
        "colab": {
          "base_uri": "https://localhost:8080/",
          "height": 304
        },
        "id": "4NmaACNGtr3h",
        "outputId": "b3330c6e-58d6-4b09-8519-df726d73fbef"
      },
      "execution_count": null,
      "outputs": [
        {
          "output_type": "display_data",
          "data": {
            "text/plain": [
              "<Figure size 2000x400 with 20 Axes>"
            ],
            "image/png": "[encoded data removed]"
          },
          "metadata": {}
        }
      ]
    },
    {
      "cell_type": "code",
      "source": [
        "# 設定超參數\n",
        "learning_rate = 0.001\n",
        "batch_size = 32\n",
        "epochs = 10"
      ],
      "metadata": {
        "id": "RSbB7_MhOboz"
      },
      "execution_count": null,
      "outputs": []
    },
    {
      "cell_type": "code",
      "source": [
        "# 設定模型架構\n",
        "input_shape = (28, 28, 1)\n",
        "encoder = tf.keras.Sequential([\n",
        "    tf.keras.layers.Conv2D(32, (3, 3), activation='relu', input_shape=input_shape),\n",
        "    tf.keras.layers.MaxPooling2D((2, 2)),\n",
        "    tf.keras.layers.Flatten(),\n",
        "    tf.keras.layers.Dense(128, activation='relu')\n",
        "])\n",
        "decoder = tf.keras.Sequential([\n",
        "    tf.keras.layers.Dense(128, activation='relu', input_shape=(128,)),\n",
        "    tf.keras.layers.Reshape((7, 7, 32)),\n",
        "    tf.keras.layers.Conv2DTranspose(32, (3, 3), strides=(2, 2), activation='relu'),\n",
        "    tf.keras.layers.Conv2DTranspose(1, (3, 3), activation='sigmoid')\n",
        "])"
      ],
      "metadata": {
        "colab": {
          "base_uri": "https://localhost:8080/",
          "height": 443
        },
        "id": "OpRRxuH3OgEh",
        "outputId": "36a2d7b7-ce39-42b4-d090-a061d369664e"
      },
      "execution_count": null,
      "outputs": [
        {
          "output_type": "error",
          "ename": "ValueError",
          "evalue": "Exception encountered when calling layer \"reshape\" (type Reshape).\n\ntotal size of new array must be unchanged, input_shape = [128], output_shape = [7, 7, 32]\n\nCall arguments received by layer \"reshape\" (type Reshape):\n  • inputs=tf.Tensor(shape=(None, 128), dtype=float32)",
          "traceback": [
            "\u001b[0;31m---------------------------------------------------------------------------\u001b[0m",
            "\u001b[0;31mValueError\u001b[0m                                Traceback (most recent call last)",
            "\u001b[0;32m<ipython-input-3-0f4773389f71>\u001b[0m in \u001b[0;36m<cell line: 9>\u001b[0;34m()\u001b[0m\n\u001b[1;32m      7\u001b[0m     \u001b[0mtf\u001b[0m\u001b[0;34m.\u001b[0m\u001b[0mkeras\u001b[0m\u001b[0;34m.\u001b[0m\u001b[0mlayers\u001b[0m\u001b[0;34m.\u001b[0m\u001b[0mDense\u001b[0m\u001b[0;34m(\u001b[0m\u001b[0;36m128\u001b[0m\u001b[0;34m,\u001b[0m \u001b[0mactivation\u001b[0m\u001b[0;34m=\u001b[0m\u001b[0;34m'relu'\u001b[0m\u001b[0;34m)\u001b[0m\u001b[0;34m\u001b[0m\u001b[0;34m\u001b[0m\u001b[0m\n\u001b[1;32m      8\u001b[0m ])\n\u001b[0;32m----> 9\u001b[0;31m decoder = tf.keras.Sequential([\n\u001b[0m\u001b[1;32m     10\u001b[0m     \u001b[0mtf\u001b[0m\u001b[0;34m.\u001b[0m\u001b[0mkeras\u001b[0m\u001b[0;34m.\u001b[0m\u001b[0mlayers\u001b[0m\u001b[0;34m.\u001b[0m\u001b[0mDense\u001b[0m\u001b[0;34m(\u001b[0m\u001b[0;36m128\u001b[0m\u001b[0;34m,\u001b[0m \u001b[0mactivation\u001b[0m\u001b[0;34m=\u001b[0m\u001b[0;34m'relu'\u001b[0m\u001b[0;34m,\u001b[0m \u001b[0minput_shape\u001b[0m\u001b[0;34m=\u001b[0m\u001b[0;34m(\u001b[0m\u001b[0;36m128\u001b[0m\u001b[0;34m,\u001b[0m\u001b[0;34m)\u001b[0m\u001b[0;34m)\u001b[0m\u001b[0;34m,\u001b[0m\u001b[0;34m\u001b[0m\u001b[0;34m\u001b[0m\u001b[0m\n\u001b[1;32m     11\u001b[0m     \u001b[0mtf\u001b[0m\u001b[0;34m.\u001b[0m\u001b[0mkeras\u001b[0m\u001b[0;34m.\u001b[0m\u001b[0mlayers\u001b[0m\u001b[0;34m.\u001b[0m\u001b[0mReshape\u001b[0m\u001b[0;34m(\u001b[0m\u001b[0;34m(\u001b[0m\u001b[0;36m7\u001b[0m\u001b[0;34m,\u001b[0m \u001b[0;36m7\u001b[0m\u001b[0;34m,\u001b[0m \u001b[0;36m32\u001b[0m\u001b[0;34m)\u001b[0m\u001b[0;34m)\u001b[0m\u001b[0;34m,\u001b[0m\u001b[0;34m\u001b[0m\u001b[0;34m\u001b[0m\u001b[0m\n",
            "\u001b[0;32m/usr/local/lib/python3.10/dist-packages/tensorflow/python/trackable/base.py\u001b[0m in \u001b[0;36m_method_wrapper\u001b[0;34m(self, *args, **kwargs)\u001b[0m\n\u001b[1;32m    202\u001b[0m     \u001b[0mself\u001b[0m\u001b[0;34m.\u001b[0m\u001b[0m_self_setattr_tracking\u001b[0m \u001b[0;34m=\u001b[0m \u001b[0;32mFalse\u001b[0m  \u001b[0;31m# pylint: disable=protected-access\u001b[0m\u001b[0;34m\u001b[0m\u001b[0;34m\u001b[0m\u001b[0m\n\u001b[1;32m    203\u001b[0m     \u001b[0;32mtry\u001b[0m\u001b[0;34m:\u001b[0m\u001b[0;34m\u001b[0m\u001b[0;34m\u001b[0m\u001b[0m\n\u001b[0;32m--> 204\u001b[0;31m       \u001b[0mresult\u001b[0m \u001b[0;34m=\u001b[0m \u001b[0mmethod\u001b[0m\u001b[0;34m(\u001b[0m\u001b[0mself\u001b[0m\u001b[0;34m,\u001b[0m \u001b[0;34m*\u001b[0m\u001b[0margs\u001b[0m\u001b[0;34m,\u001b[0m \u001b[0;34m**\u001b[0m\u001b[0mkwargs\u001b[0m\u001b[0;34m)\u001b[0m\u001b[0;34m\u001b[0m\u001b[0;34m\u001b[0m\u001b[0m\n\u001b[0m\u001b[1;32m    205\u001b[0m     \u001b[0;32mfinally\u001b[0m\u001b[0;34m:\u001b[0m\u001b[0;34m\u001b[0m\u001b[0;34m\u001b[0m\u001b[0m\n\u001b[1;32m    206\u001b[0m       \u001b[0mself\u001b[0m\u001b[0;34m.\u001b[0m\u001b[0m_self_setattr_tracking\u001b[0m \u001b[0;34m=\u001b[0m \u001b[0mprevious_value\u001b[0m  \u001b[0;31m# pylint: disable=protected-access\u001b[0m\u001b[0;34m\u001b[0m\u001b[0;34m\u001b[0m\u001b[0m\n",
            "\u001b[0;32m/usr/local/lib/python3.10/dist-packages/keras/src/utils/traceback_utils.py\u001b[0m in \u001b[0;36merror_handler\u001b[0;34m(*args, **kwargs)\u001b[0m\n\u001b[1;32m     68\u001b[0m             \u001b[0;31m# To get the full stack trace, call:\u001b[0m\u001b[0;34m\u001b[0m\u001b[0;34m\u001b[0m\u001b[0m\n\u001b[1;32m     69\u001b[0m             \u001b[0;31m# `tf.debugging.disable_traceback_filtering()`\u001b[0m\u001b[0;34m\u001b[0m\u001b[0;34m\u001b[0m\u001b[0m\n\u001b[0;32m---> 70\u001b[0;31m             \u001b[0;32mraise\u001b[0m \u001b[0me\u001b[0m\u001b[0;34m.\u001b[0m\u001b[0mwith_traceback\u001b[0m\u001b[0;34m(\u001b[0m\u001b[0mfiltered_tb\u001b[0m\u001b[0;34m)\u001b[0m \u001b[0;32mfrom\u001b[0m \u001b[0;32mNone\u001b[0m\u001b[0;34m\u001b[0m\u001b[0;34m\u001b[0m\u001b[0m\n\u001b[0m\u001b[1;32m     71\u001b[0m         \u001b[0;32mfinally\u001b[0m\u001b[0;34m:\u001b[0m\u001b[0;34m\u001b[0m\u001b[0;34m\u001b[0m\u001b[0m\n\u001b[1;32m     72\u001b[0m             \u001b[0;32mdel\u001b[0m \u001b[0mfiltered_tb\u001b[0m\u001b[0;34m\u001b[0m\u001b[0;34m\u001b[0m\u001b[0m\n",
            "\u001b[0;32m/usr/local/lib/python3.10/dist-packages/keras/src/layers/reshaping/reshape.py\u001b[0m in \u001b[0;36m_fix_unknown_dimension\u001b[0;34m(self, input_shape, output_shape)\u001b[0m\n\u001b[1;32m    116\u001b[0m             \u001b[0moutput_shape\u001b[0m\u001b[0;34m[\u001b[0m\u001b[0munknown\u001b[0m\u001b[0;34m]\u001b[0m \u001b[0;34m=\u001b[0m \u001b[0moriginal\u001b[0m \u001b[0;34m//\u001b[0m \u001b[0mknown\u001b[0m\u001b[0;34m\u001b[0m\u001b[0;34m\u001b[0m\u001b[0m\n\u001b[1;32m    117\u001b[0m         \u001b[0;32melif\u001b[0m \u001b[0moriginal\u001b[0m \u001b[0;34m!=\u001b[0m \u001b[0mknown\u001b[0m\u001b[0;34m:\u001b[0m\u001b[0;34m\u001b[0m\u001b[0;34m\u001b[0m\u001b[0m\n\u001b[0;32m--> 118\u001b[0;31m             \u001b[0;32mraise\u001b[0m \u001b[0mValueError\u001b[0m\u001b[0;34m(\u001b[0m\u001b[0mmsg\u001b[0m\u001b[0;34m)\u001b[0m\u001b[0;34m\u001b[0m\u001b[0;34m\u001b[0m\u001b[0m\n\u001b[0m\u001b[1;32m    119\u001b[0m         \u001b[0;32mreturn\u001b[0m \u001b[0moutput_shape\u001b[0m\u001b[0;34m\u001b[0m\u001b[0;34m\u001b[0m\u001b[0m\n\u001b[1;32m    120\u001b[0m \u001b[0;34m\u001b[0m\u001b[0m\n",
            "\u001b[0;31mValueError\u001b[0m: Exception encountered when calling layer \"reshape\" (type Reshape).\n\ntotal size of new array must be unchanged, input_shape = [128], output_shape = [7, 7, 32]\n\nCall arguments received by layer \"reshape\" (type Reshape):\n  • inputs=tf.Tensor(shape=(None, 128), dtype=float32)"
          ]
        }
      ]
    },
    {
      "cell_type": "code",
      "source": [],
      "metadata": {
        "id": "zNGaKRB8OjiG"
      },
      "execution_count": null,
      "outputs": []
    }
  ]
}